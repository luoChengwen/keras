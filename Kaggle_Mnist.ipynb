{
  "nbformat": 4,
  "nbformat_minor": 0,
  "metadata": {
    "colab": {
      "name": "Kaggle_Mnist.ipynb",
      "version": "0.3.2",
      "provenance": [],
      "collapsed_sections": [],
      "include_colab_link": true
    },
    "kernelspec": {
      "name": "python3",
      "display_name": "Python 3"
    },
    "accelerator": "GPU"
  },
  "cells": [
    {
      "cell_type": "markdown",
      "metadata": {
        "id": "view-in-github",
        "colab_type": "text"
      },
      "source": [
        "<a href=\"https://colab.research.google.com/github/luoChengwen/keras/blob/master/Kaggle_Mnist.ipynb\" target=\"_parent\"><img src=\"https://colab.research.google.com/assets/colab-badge.svg\" alt=\"Open In Colab\"/></a>"
      ]
    },
    {
      "cell_type": "markdown",
      "metadata": {
        "id": "R5va5eK57CMQ",
        "colab_type": "text"
      },
      "source": [
        "https://www.kaggle.com/c/digit-recognizer/"
      ]
    },
    {
      "cell_type": "code",
      "metadata": {
        "id": "puFtlptv7BED",
        "colab_type": "code",
        "colab": {}
      },
      "source": [
        "# !pip install tensorflow==2.0.0-beta0\n"
      ],
      "execution_count": 0,
      "outputs": []
    },
    {
      "cell_type": "code",
      "metadata": {
        "id": "tt0M4KEh6x8L",
        "colab_type": "code",
        "colab": {}
      },
      "source": [
        "\n",
        "# files = files.upload()"
      ],
      "execution_count": 0,
      "outputs": []
    },
    {
      "cell_type": "code",
      "metadata": {
        "id": "0RifEvZE7eSw",
        "colab_type": "code",
        "colab": {
          "base_uri": "https://localhost:8080/",
          "height": 34
        },
        "outputId": "d260b372-7446-4b7d-fbde-b40527fb3b3c"
      },
      "source": [
        "import tensorflow as tf\n",
        "print(tf.__version__)\n",
        "from google.colab import files\n",
        "import numpy as np\n",
        "import pandas as pd\n",
        "import matplotlib.pyplot as plt\n",
        "from sklearn.model_selection import train_test_split\n"
      ],
      "execution_count": 28,
      "outputs": [
        {
          "output_type": "stream",
          "text": [
            "2.0.0-beta0\n"
          ],
          "name": "stdout"
        }
      ]
    },
    {
      "cell_type": "code",
      "metadata": {
        "id": "rguZmcZ7D6iw",
        "colab_type": "code",
        "colab": {}
      },
      "source": [
        "# from google.colab import drive\n",
        "# drive.mount('/content/drive')\n",
        "\n",
        "path = \"/content/drive/My Drive/Kaggle/mnist/train.csv\"\n",
        "train_data = pd.read_csv(path)\n",
        "\n",
        "# train_data = pd.read_csv('train.csv')"
      ],
      "execution_count": 0,
      "outputs": []
    },
    {
      "cell_type": "code",
      "metadata": {
        "id": "y--wn4IqEXWS",
        "colab_type": "code",
        "colab": {
          "base_uri": "https://localhost:8080/",
          "height": 355
        },
        "outputId": "17dd602b-18f1-4ce7-c922-5d8853ecaeb1"
      },
      "source": [
        "print(train_data.columns)\n",
        "train_data.head()"
      ],
      "execution_count": 30,
      "outputs": [
        {
          "output_type": "stream",
          "text": [
            "Index(['label', 'pixel0', 'pixel1', 'pixel2', 'pixel3', 'pixel4', 'pixel5',\n",
            "       'pixel6', 'pixel7', 'pixel8',\n",
            "       ...\n",
            "       'pixel774', 'pixel775', 'pixel776', 'pixel777', 'pixel778', 'pixel779',\n",
            "       'pixel780', 'pixel781', 'pixel782', 'pixel783'],\n",
            "      dtype='object', length=785)\n"
          ],
          "name": "stdout"
        },
        {
          "output_type": "execute_result",
          "data": {
            "text/html": [
              "<div>\n",
              "<style scoped>\n",
              "    .dataframe tbody tr th:only-of-type {\n",
              "        vertical-align: middle;\n",
              "    }\n",
              "\n",
              "    .dataframe tbody tr th {\n",
              "        vertical-align: top;\n",
              "    }\n",
              "\n",
              "    .dataframe thead th {\n",
              "        text-align: right;\n",
              "    }\n",
              "</style>\n",
              "<table border=\"1\" class=\"dataframe\">\n",
              "  <thead>\n",
              "    <tr style=\"text-align: right;\">\n",
              "      <th></th>\n",
              "      <th>label</th>\n",
              "      <th>pixel0</th>\n",
              "      <th>pixel1</th>\n",
              "      <th>pixel2</th>\n",
              "      <th>pixel3</th>\n",
              "      <th>pixel4</th>\n",
              "      <th>pixel5</th>\n",
              "      <th>pixel6</th>\n",
              "      <th>pixel7</th>\n",
              "      <th>pixel8</th>\n",
              "      <th>pixel9</th>\n",
              "      <th>pixel10</th>\n",
              "      <th>pixel11</th>\n",
              "      <th>pixel12</th>\n",
              "      <th>pixel13</th>\n",
              "      <th>pixel14</th>\n",
              "      <th>pixel15</th>\n",
              "      <th>pixel16</th>\n",
              "      <th>pixel17</th>\n",
              "      <th>pixel18</th>\n",
              "      <th>pixel19</th>\n",
              "      <th>pixel20</th>\n",
              "      <th>pixel21</th>\n",
              "      <th>pixel22</th>\n",
              "      <th>pixel23</th>\n",
              "      <th>pixel24</th>\n",
              "      <th>pixel25</th>\n",
              "      <th>pixel26</th>\n",
              "      <th>pixel27</th>\n",
              "      <th>pixel28</th>\n",
              "      <th>pixel29</th>\n",
              "      <th>pixel30</th>\n",
              "      <th>pixel31</th>\n",
              "      <th>pixel32</th>\n",
              "      <th>pixel33</th>\n",
              "      <th>pixel34</th>\n",
              "      <th>pixel35</th>\n",
              "      <th>pixel36</th>\n",
              "      <th>pixel37</th>\n",
              "      <th>pixel38</th>\n",
              "      <th>...</th>\n",
              "      <th>pixel744</th>\n",
              "      <th>pixel745</th>\n",
              "      <th>pixel746</th>\n",
              "      <th>pixel747</th>\n",
              "      <th>pixel748</th>\n",
              "      <th>pixel749</th>\n",
              "      <th>pixel750</th>\n",
              "      <th>pixel751</th>\n",
              "      <th>pixel752</th>\n",
              "      <th>pixel753</th>\n",
              "      <th>pixel754</th>\n",
              "      <th>pixel755</th>\n",
              "      <th>pixel756</th>\n",
              "      <th>pixel757</th>\n",
              "      <th>pixel758</th>\n",
              "      <th>pixel759</th>\n",
              "      <th>pixel760</th>\n",
              "      <th>pixel761</th>\n",
              "      <th>pixel762</th>\n",
              "      <th>pixel763</th>\n",
              "      <th>pixel764</th>\n",
              "      <th>pixel765</th>\n",
              "      <th>pixel766</th>\n",
              "      <th>pixel767</th>\n",
              "      <th>pixel768</th>\n",
              "      <th>pixel769</th>\n",
              "      <th>pixel770</th>\n",
              "      <th>pixel771</th>\n",
              "      <th>pixel772</th>\n",
              "      <th>pixel773</th>\n",
              "      <th>pixel774</th>\n",
              "      <th>pixel775</th>\n",
              "      <th>pixel776</th>\n",
              "      <th>pixel777</th>\n",
              "      <th>pixel778</th>\n",
              "      <th>pixel779</th>\n",
              "      <th>pixel780</th>\n",
              "      <th>pixel781</th>\n",
              "      <th>pixel782</th>\n",
              "      <th>pixel783</th>\n",
              "    </tr>\n",
              "  </thead>\n",
              "  <tbody>\n",
              "    <tr>\n",
              "      <th>0</th>\n",
              "      <td>1</td>\n",
              "      <td>0</td>\n",
              "      <td>0</td>\n",
              "      <td>0</td>\n",
              "      <td>0</td>\n",
              "      <td>0</td>\n",
              "      <td>0</td>\n",
              "      <td>0</td>\n",
              "      <td>0</td>\n",
              "      <td>0</td>\n",
              "      <td>0</td>\n",
              "      <td>0</td>\n",
              "      <td>0</td>\n",
              "      <td>0</td>\n",
              "      <td>0</td>\n",
              "      <td>0</td>\n",
              "      <td>0</td>\n",
              "      <td>0</td>\n",
              "      <td>0</td>\n",
              "      <td>0</td>\n",
              "      <td>0</td>\n",
              "      <td>0</td>\n",
              "      <td>0</td>\n",
              "      <td>0</td>\n",
              "      <td>0</td>\n",
              "      <td>0</td>\n",
              "      <td>0</td>\n",
              "      <td>0</td>\n",
              "      <td>0</td>\n",
              "      <td>0</td>\n",
              "      <td>0</td>\n",
              "      <td>0</td>\n",
              "      <td>0</td>\n",
              "      <td>0</td>\n",
              "      <td>0</td>\n",
              "      <td>0</td>\n",
              "      <td>0</td>\n",
              "      <td>0</td>\n",
              "      <td>0</td>\n",
              "      <td>0</td>\n",
              "      <td>...</td>\n",
              "      <td>0</td>\n",
              "      <td>0</td>\n",
              "      <td>0</td>\n",
              "      <td>0</td>\n",
              "      <td>0</td>\n",
              "      <td>0</td>\n",
              "      <td>0</td>\n",
              "      <td>0</td>\n",
              "      <td>0</td>\n",
              "      <td>0</td>\n",
              "      <td>0</td>\n",
              "      <td>0</td>\n",
              "      <td>0</td>\n",
              "      <td>0</td>\n",
              "      <td>0</td>\n",
              "      <td>0</td>\n",
              "      <td>0</td>\n",
              "      <td>0</td>\n",
              "      <td>0</td>\n",
              "      <td>0</td>\n",
              "      <td>0</td>\n",
              "      <td>0</td>\n",
              "      <td>0</td>\n",
              "      <td>0</td>\n",
              "      <td>0</td>\n",
              "      <td>0</td>\n",
              "      <td>0</td>\n",
              "      <td>0</td>\n",
              "      <td>0</td>\n",
              "      <td>0</td>\n",
              "      <td>0</td>\n",
              "      <td>0</td>\n",
              "      <td>0</td>\n",
              "      <td>0</td>\n",
              "      <td>0</td>\n",
              "      <td>0</td>\n",
              "      <td>0</td>\n",
              "      <td>0</td>\n",
              "      <td>0</td>\n",
              "      <td>0</td>\n",
              "    </tr>\n",
              "    <tr>\n",
              "      <th>1</th>\n",
              "      <td>0</td>\n",
              "      <td>0</td>\n",
              "      <td>0</td>\n",
              "      <td>0</td>\n",
              "      <td>0</td>\n",
              "      <td>0</td>\n",
              "      <td>0</td>\n",
              "      <td>0</td>\n",
              "      <td>0</td>\n",
              "      <td>0</td>\n",
              "      <td>0</td>\n",
              "      <td>0</td>\n",
              "      <td>0</td>\n",
              "      <td>0</td>\n",
              "      <td>0</td>\n",
              "      <td>0</td>\n",
              "      <td>0</td>\n",
              "      <td>0</td>\n",
              "      <td>0</td>\n",
              "      <td>0</td>\n",
              "      <td>0</td>\n",
              "      <td>0</td>\n",
              "      <td>0</td>\n",
              "      <td>0</td>\n",
              "      <td>0</td>\n",
              "      <td>0</td>\n",
              "      <td>0</td>\n",
              "      <td>0</td>\n",
              "      <td>0</td>\n",
              "      <td>0</td>\n",
              "      <td>0</td>\n",
              "      <td>0</td>\n",
              "      <td>0</td>\n",
              "      <td>0</td>\n",
              "      <td>0</td>\n",
              "      <td>0</td>\n",
              "      <td>0</td>\n",
              "      <td>0</td>\n",
              "      <td>0</td>\n",
              "      <td>0</td>\n",
              "      <td>...</td>\n",
              "      <td>0</td>\n",
              "      <td>0</td>\n",
              "      <td>0</td>\n",
              "      <td>0</td>\n",
              "      <td>0</td>\n",
              "      <td>0</td>\n",
              "      <td>0</td>\n",
              "      <td>0</td>\n",
              "      <td>0</td>\n",
              "      <td>0</td>\n",
              "      <td>0</td>\n",
              "      <td>0</td>\n",
              "      <td>0</td>\n",
              "      <td>0</td>\n",
              "      <td>0</td>\n",
              "      <td>0</td>\n",
              "      <td>0</td>\n",
              "      <td>0</td>\n",
              "      <td>0</td>\n",
              "      <td>0</td>\n",
              "      <td>0</td>\n",
              "      <td>0</td>\n",
              "      <td>0</td>\n",
              "      <td>0</td>\n",
              "      <td>0</td>\n",
              "      <td>0</td>\n",
              "      <td>0</td>\n",
              "      <td>0</td>\n",
              "      <td>0</td>\n",
              "      <td>0</td>\n",
              "      <td>0</td>\n",
              "      <td>0</td>\n",
              "      <td>0</td>\n",
              "      <td>0</td>\n",
              "      <td>0</td>\n",
              "      <td>0</td>\n",
              "      <td>0</td>\n",
              "      <td>0</td>\n",
              "      <td>0</td>\n",
              "      <td>0</td>\n",
              "    </tr>\n",
              "    <tr>\n",
              "      <th>2</th>\n",
              "      <td>1</td>\n",
              "      <td>0</td>\n",
              "      <td>0</td>\n",
              "      <td>0</td>\n",
              "      <td>0</td>\n",
              "      <td>0</td>\n",
              "      <td>0</td>\n",
              "      <td>0</td>\n",
              "      <td>0</td>\n",
              "      <td>0</td>\n",
              "      <td>0</td>\n",
              "      <td>0</td>\n",
              "      <td>0</td>\n",
              "      <td>0</td>\n",
              "      <td>0</td>\n",
              "      <td>0</td>\n",
              "      <td>0</td>\n",
              "      <td>0</td>\n",
              "      <td>0</td>\n",
              "      <td>0</td>\n",
              "      <td>0</td>\n",
              "      <td>0</td>\n",
              "      <td>0</td>\n",
              "      <td>0</td>\n",
              "      <td>0</td>\n",
              "      <td>0</td>\n",
              "      <td>0</td>\n",
              "      <td>0</td>\n",
              "      <td>0</td>\n",
              "      <td>0</td>\n",
              "      <td>0</td>\n",
              "      <td>0</td>\n",
              "      <td>0</td>\n",
              "      <td>0</td>\n",
              "      <td>0</td>\n",
              "      <td>0</td>\n",
              "      <td>0</td>\n",
              "      <td>0</td>\n",
              "      <td>0</td>\n",
              "      <td>0</td>\n",
              "      <td>...</td>\n",
              "      <td>0</td>\n",
              "      <td>0</td>\n",
              "      <td>0</td>\n",
              "      <td>0</td>\n",
              "      <td>0</td>\n",
              "      <td>0</td>\n",
              "      <td>0</td>\n",
              "      <td>0</td>\n",
              "      <td>0</td>\n",
              "      <td>0</td>\n",
              "      <td>0</td>\n",
              "      <td>0</td>\n",
              "      <td>0</td>\n",
              "      <td>0</td>\n",
              "      <td>0</td>\n",
              "      <td>0</td>\n",
              "      <td>0</td>\n",
              "      <td>0</td>\n",
              "      <td>0</td>\n",
              "      <td>0</td>\n",
              "      <td>0</td>\n",
              "      <td>0</td>\n",
              "      <td>0</td>\n",
              "      <td>0</td>\n",
              "      <td>0</td>\n",
              "      <td>0</td>\n",
              "      <td>0</td>\n",
              "      <td>0</td>\n",
              "      <td>0</td>\n",
              "      <td>0</td>\n",
              "      <td>0</td>\n",
              "      <td>0</td>\n",
              "      <td>0</td>\n",
              "      <td>0</td>\n",
              "      <td>0</td>\n",
              "      <td>0</td>\n",
              "      <td>0</td>\n",
              "      <td>0</td>\n",
              "      <td>0</td>\n",
              "      <td>0</td>\n",
              "    </tr>\n",
              "    <tr>\n",
              "      <th>3</th>\n",
              "      <td>4</td>\n",
              "      <td>0</td>\n",
              "      <td>0</td>\n",
              "      <td>0</td>\n",
              "      <td>0</td>\n",
              "      <td>0</td>\n",
              "      <td>0</td>\n",
              "      <td>0</td>\n",
              "      <td>0</td>\n",
              "      <td>0</td>\n",
              "      <td>0</td>\n",
              "      <td>0</td>\n",
              "      <td>0</td>\n",
              "      <td>0</td>\n",
              "      <td>0</td>\n",
              "      <td>0</td>\n",
              "      <td>0</td>\n",
              "      <td>0</td>\n",
              "      <td>0</td>\n",
              "      <td>0</td>\n",
              "      <td>0</td>\n",
              "      <td>0</td>\n",
              "      <td>0</td>\n",
              "      <td>0</td>\n",
              "      <td>0</td>\n",
              "      <td>0</td>\n",
              "      <td>0</td>\n",
              "      <td>0</td>\n",
              "      <td>0</td>\n",
              "      <td>0</td>\n",
              "      <td>0</td>\n",
              "      <td>0</td>\n",
              "      <td>0</td>\n",
              "      <td>0</td>\n",
              "      <td>0</td>\n",
              "      <td>0</td>\n",
              "      <td>0</td>\n",
              "      <td>0</td>\n",
              "      <td>0</td>\n",
              "      <td>0</td>\n",
              "      <td>...</td>\n",
              "      <td>0</td>\n",
              "      <td>0</td>\n",
              "      <td>0</td>\n",
              "      <td>0</td>\n",
              "      <td>0</td>\n",
              "      <td>0</td>\n",
              "      <td>0</td>\n",
              "      <td>0</td>\n",
              "      <td>0</td>\n",
              "      <td>0</td>\n",
              "      <td>0</td>\n",
              "      <td>0</td>\n",
              "      <td>0</td>\n",
              "      <td>0</td>\n",
              "      <td>0</td>\n",
              "      <td>0</td>\n",
              "      <td>0</td>\n",
              "      <td>0</td>\n",
              "      <td>0</td>\n",
              "      <td>0</td>\n",
              "      <td>0</td>\n",
              "      <td>0</td>\n",
              "      <td>0</td>\n",
              "      <td>0</td>\n",
              "      <td>0</td>\n",
              "      <td>0</td>\n",
              "      <td>0</td>\n",
              "      <td>0</td>\n",
              "      <td>0</td>\n",
              "      <td>0</td>\n",
              "      <td>0</td>\n",
              "      <td>0</td>\n",
              "      <td>0</td>\n",
              "      <td>0</td>\n",
              "      <td>0</td>\n",
              "      <td>0</td>\n",
              "      <td>0</td>\n",
              "      <td>0</td>\n",
              "      <td>0</td>\n",
              "      <td>0</td>\n",
              "    </tr>\n",
              "    <tr>\n",
              "      <th>4</th>\n",
              "      <td>0</td>\n",
              "      <td>0</td>\n",
              "      <td>0</td>\n",
              "      <td>0</td>\n",
              "      <td>0</td>\n",
              "      <td>0</td>\n",
              "      <td>0</td>\n",
              "      <td>0</td>\n",
              "      <td>0</td>\n",
              "      <td>0</td>\n",
              "      <td>0</td>\n",
              "      <td>0</td>\n",
              "      <td>0</td>\n",
              "      <td>0</td>\n",
              "      <td>0</td>\n",
              "      <td>0</td>\n",
              "      <td>0</td>\n",
              "      <td>0</td>\n",
              "      <td>0</td>\n",
              "      <td>0</td>\n",
              "      <td>0</td>\n",
              "      <td>0</td>\n",
              "      <td>0</td>\n",
              "      <td>0</td>\n",
              "      <td>0</td>\n",
              "      <td>0</td>\n",
              "      <td>0</td>\n",
              "      <td>0</td>\n",
              "      <td>0</td>\n",
              "      <td>0</td>\n",
              "      <td>0</td>\n",
              "      <td>0</td>\n",
              "      <td>0</td>\n",
              "      <td>0</td>\n",
              "      <td>0</td>\n",
              "      <td>0</td>\n",
              "      <td>0</td>\n",
              "      <td>0</td>\n",
              "      <td>0</td>\n",
              "      <td>0</td>\n",
              "      <td>...</td>\n",
              "      <td>0</td>\n",
              "      <td>0</td>\n",
              "      <td>0</td>\n",
              "      <td>0</td>\n",
              "      <td>0</td>\n",
              "      <td>0</td>\n",
              "      <td>0</td>\n",
              "      <td>0</td>\n",
              "      <td>0</td>\n",
              "      <td>0</td>\n",
              "      <td>0</td>\n",
              "      <td>0</td>\n",
              "      <td>0</td>\n",
              "      <td>0</td>\n",
              "      <td>0</td>\n",
              "      <td>0</td>\n",
              "      <td>0</td>\n",
              "      <td>0</td>\n",
              "      <td>0</td>\n",
              "      <td>0</td>\n",
              "      <td>0</td>\n",
              "      <td>0</td>\n",
              "      <td>0</td>\n",
              "      <td>0</td>\n",
              "      <td>0</td>\n",
              "      <td>0</td>\n",
              "      <td>0</td>\n",
              "      <td>0</td>\n",
              "      <td>0</td>\n",
              "      <td>0</td>\n",
              "      <td>0</td>\n",
              "      <td>0</td>\n",
              "      <td>0</td>\n",
              "      <td>0</td>\n",
              "      <td>0</td>\n",
              "      <td>0</td>\n",
              "      <td>0</td>\n",
              "      <td>0</td>\n",
              "      <td>0</td>\n",
              "      <td>0</td>\n",
              "    </tr>\n",
              "  </tbody>\n",
              "</table>\n",
              "<p>5 rows × 785 columns</p>\n",
              "</div>"
            ],
            "text/plain": [
              "   label  pixel0  pixel1  pixel2  ...  pixel780  pixel781  pixel782  pixel783\n",
              "0      1       0       0       0  ...         0         0         0         0\n",
              "1      0       0       0       0  ...         0         0         0         0\n",
              "2      1       0       0       0  ...         0         0         0         0\n",
              "3      4       0       0       0  ...         0         0         0         0\n",
              "4      0       0       0       0  ...         0         0         0         0\n",
              "\n",
              "[5 rows x 785 columns]"
            ]
          },
          "metadata": {
            "tags": []
          },
          "execution_count": 30
        }
      ]
    },
    {
      "cell_type": "code",
      "metadata": {
        "id": "PIJ0bHIGEeaw",
        "colab_type": "code",
        "colab": {
          "base_uri": "https://localhost:8080/",
          "height": 34
        },
        "outputId": "2cefe228-e4ae-4fbc-f4ba-8393ad379f90"
      },
      "source": [
        "print(np.shape(train_data))"
      ],
      "execution_count": 31,
      "outputs": [
        {
          "output_type": "stream",
          "text": [
            "(42000, 785)\n"
          ],
          "name": "stdout"
        }
      ]
    },
    {
      "cell_type": "code",
      "metadata": {
        "id": "CT5jj28VFFiy",
        "colab_type": "code",
        "colab": {
          "base_uri": "https://localhost:8080/",
          "height": 34
        },
        "outputId": "b5be8be8-768f-4fe0-f9e5-65239994fe65"
      },
      "source": [
        "sum(train_data.isnull().sum()>1)\n"
      ],
      "execution_count": 32,
      "outputs": [
        {
          "output_type": "execute_result",
          "data": {
            "text/plain": [
              "0"
            ]
          },
          "metadata": {
            "tags": []
          },
          "execution_count": 32
        }
      ]
    },
    {
      "cell_type": "code",
      "metadata": {
        "id": "wqeSrUWZGlmP",
        "colab_type": "code",
        "colab": {
          "base_uri": "https://localhost:8080/",
          "height": 105
        },
        "outputId": "b5ed418b-6d53-4428-b055-b2fc4b02289a"
      },
      "source": [
        "from keras.utils import to_categorical\n",
        "\n",
        "labels = train_data.iloc[:,0]\n",
        "labels = labels.as_matrix()\n",
        "labels = to_categorical(labels)\n",
        "x_data = train_data.iloc[:,1:]\n",
        "x_data = np.array(x_data).reshape(-1,28,28,1)\n",
        "train_X, validation_X, train_y, validation_y = train_test_split(x_data, labels, test_size=.1)\n",
        "print(type(train_y[0]))\n",
        "print(train_y[0])"
      ],
      "execution_count": 33,
      "outputs": [
        {
          "output_type": "stream",
          "text": [
            "/usr/local/lib/python3.6/dist-packages/ipykernel_launcher.py:4: FutureWarning: Method .as_matrix will be removed in a future version. Use .values instead.\n",
            "  after removing the cwd from sys.path.\n"
          ],
          "name": "stderr"
        },
        {
          "output_type": "stream",
          "text": [
            "<class 'numpy.ndarray'>\n",
            "[0. 0. 0. 1. 0. 0. 0. 0. 0. 0.]\n"
          ],
          "name": "stdout"
        }
      ]
    },
    {
      "cell_type": "code",
      "metadata": {
        "id": "4dnbktLVgVP0",
        "colab_type": "code",
        "colab": {
          "base_uri": "https://localhost:8080/",
          "height": 352
        },
        "outputId": "b006ef26-067e-4923-bca4-f89c31355e6d"
      },
      "source": [
        "np.shape(train_X[0])\n",
        "plt.imshow(np.squeeze(train_X[0]))\n",
        "plt.title(train_y[0])"
      ],
      "execution_count": 34,
      "outputs": [
        {
          "output_type": "stream",
          "text": [
            "/usr/local/lib/python3.6/dist-packages/matplotlib/text.py:1191: FutureWarning: elementwise comparison failed; returning scalar instead, but in the future will perform elementwise comparison\n",
            "  if s != self._text:\n"
          ],
          "name": "stderr"
        },
        {
          "output_type": "execute_result",
          "data": {
            "text/plain": [
              "Text(0.5, 1.0, '[0. 0. 0. 1. 0. 0. 0. 0. 0. 0.]')"
            ]
          },
          "metadata": {
            "tags": []
          },
          "execution_count": 34
        },
        {
          "output_type": "display_data",
          "data": {
            "image/png": "[encoded data removed]",
            "text/plain": [
              "<Figure size 432x288 with 1 Axes>"
            ]
          },
          "metadata": {
            "tags": []
          }
        }
      ]
    },
    {
      "cell_type": "code",
      "metadata": {
        "id": "PdUsETx_YSe0",
        "colab_type": "code",
        "colab": {}
      },
      "source": [
        "from xgboost import XGBClassifier\n",
        "from tensorflow.keras.preprocessing.image import ImageDataGenerator"
      ],
      "execution_count": 0,
      "outputs": []
    },
    {
      "cell_type": "code",
      "metadata": {
        "id": "cHHR932bYh4w",
        "colab_type": "code",
        "colab": {
          "base_uri": "https://localhost:8080/",
          "height": 34
        },
        "outputId": "8ddf655f-12e0-4aea-b091-2d8251b4510f"
      },
      "source": [
        "train_y[0]\n",
        "print(type(train_y[0]))"
      ],
      "execution_count": 36,
      "outputs": [
        {
          "output_type": "stream",
          "text": [
            "<class 'numpy.ndarray'>\n"
          ],
          "name": "stdout"
        }
      ]
    },
    {
      "cell_type": "code",
      "metadata": {
        "id": "bpkcN-hKfXZW",
        "colab_type": "code",
        "colab": {}
      },
      "source": [
        "train_datagen = ImageDataGenerator(rescale = 1/255,\n",
        "                                   width_shift_range = .2,\n",
        "                                   height_shift_range = .2,\n",
        "                                   shear_range = .2,\n",
        "                                   rotation_range=25,\n",
        "                                   fill_mode = 'nearest'\n",
        "    # Your Code Here\n",
        "    )\n",
        "\n",
        "\n",
        "validation_datagen = ImageDataGenerator(rescale = 1/255,\n",
        "                                        width_shift_range = .2,\n",
        "                                        height_shift_range = .2,\n",
        "                                        shear_range = .2,\n",
        "                                        rotation_range=25,\n",
        "                                        fill_mode= 'nearest')\n",
        "train_data_flow = train_datagen.flow(train_X, train_y, batch_size=32)\n",
        "validation_data_flow = validation_datagen.flow(validation_X, validation_y, batch_size=32)"
      ],
      "execution_count": 0,
      "outputs": []
    },
    {
      "cell_type": "code",
      "metadata": {
        "id": "cgFl3xh0G-3y",
        "colab_type": "code",
        "colab": {
          "base_uri": "https://localhost:8080/",
          "height": 459
        },
        "outputId": "94dcf0de-4d34-48bc-8b53-22892c49527a"
      },
      "source": [
        "model = tf.keras.models.Sequential([\n",
        "    tf.keras.layers.Conv2D(64,(5,5),input_shape=(28,28,1),activation='relu', padding = 'same'),\n",
        "    tf.keras.layers.Conv2D(64,(5,5),input_shape=(28,28,1),activation='relu', padding = 'same'),\n",
        "    tf.keras.layers.MaxPooling2D(2,2),\n",
        "#     tf.keras.layers.BatchNormalization(axis=-1),\n",
        "    tf.keras.layers.Conv2D(64,(5,5), activation = 'relu', padding = 'same'),\n",
        "    tf.keras.layers.Conv2D(64,(5,5), activation = 'relu'),\n",
        "    tf.keras.layers.MaxPooling2D(2,2),\n",
        "    tf.keras.layers.Flatten(),\n",
        "    tf.keras.layers.Dense(128, activation='relu'),\n",
        "    tf.keras.layers.Dense(10, activation='softmax')\n",
        "])\n",
        "\n",
        "model.compile(optimizer='adam',loss='categorical_crossentropy',metrics=['accuracy'])\n",
        "model.summary()"
      ],
      "execution_count": 42,
      "outputs": [
        {
          "output_type": "stream",
          "text": [
            "Model: \"sequential_3\"\n",
            "_________________________________________________________________\n",
            "Layer (type)                 Output Shape              Param #   \n",
            "=================================================================\n",
            "conv2d_10 (Conv2D)           (None, 28, 28, 64)        1664      \n",
            "_________________________________________________________________\n",
            "conv2d_11 (Conv2D)           (None, 28, 28, 64)        102464    \n",
            "_________________________________________________________________\n",
            "max_pooling2d_6 (MaxPooling2 (None, 14, 14, 64)        0         \n",
            "_________________________________________________________________\n",
            "conv2d_12 (Conv2D)           (None, 14, 14, 64)        102464    \n",
            "_________________________________________________________________\n",
            "conv2d_13 (Conv2D)           (None, 10, 10, 64)        102464    \n",
            "_________________________________________________________________\n",
            "max_pooling2d_7 (MaxPooling2 (None, 5, 5, 64)          0         \n",
            "_________________________________________________________________\n",
            "flatten_3 (Flatten)          (None, 1600)              0         \n",
            "_________________________________________________________________\n",
            "dense_6 (Dense)              (None, 128)               204928    \n",
            "_________________________________________________________________\n",
            "dense_7 (Dense)              (None, 10)                1290      \n",
            "=================================================================\n",
            "Total params: 515,274\n",
            "Trainable params: 515,274\n",
            "Non-trainable params: 0\n",
            "_________________________________________________________________\n"
          ],
          "name": "stdout"
        }
      ]
    },
    {
      "cell_type": "code",
      "metadata": {
        "id": "919gAwCRcYi3",
        "colab_type": "code",
        "colab": {
          "base_uri": "https://localhost:8080/",
          "height": 1000
        },
        "outputId": "442d4ffe-dfb3-4843-fc80-e0c36602fa58"
      },
      "source": [
        "history = model.fit_generator(    \n",
        "    train_data_flow,\n",
        "    validation_data = validation_data_flow,\n",
        "    epochs=100,\n",
        "    steps_per_epoch=50,\n",
        "    validation_steps=50 \n",
        ")\n"
      ],
      "execution_count": 44,
      "outputs": [
        {
          "output_type": "stream",
          "text": [
            "Epoch 1/100\n",
            "50/50 [==============================] - 35s 695ms/step - loss: 0.0865 - accuracy: 0.9731 - val_loss: 0.0899 - val_accuracy: 0.9694\n",
            "Epoch 2/100\n",
            "50/50 [==============================] - 35s 701ms/step - loss: 0.0734 - accuracy: 0.9787 - val_loss: 0.0785 - val_accuracy: 0.9756\n",
            "Epoch 3/100\n",
            "50/50 [==============================] - 36s 710ms/step - loss: 0.0708 - accuracy: 0.9781 - val_loss: 0.0725 - val_accuracy: 0.9787\n",
            "Epoch 4/100\n",
            "50/50 [==============================] - 35s 708ms/step - loss: 0.0792 - accuracy: 0.9769 - val_loss: 0.0869 - val_accuracy: 0.9762\n",
            "Epoch 5/100\n",
            "50/50 [==============================] - 36s 711ms/step - loss: 0.0538 - accuracy: 0.9831 - val_loss: 0.1007 - val_accuracy: 0.9725\n",
            "Epoch 6/100\n",
            "50/50 [==============================] - 36s 710ms/step - loss: 0.0671 - accuracy: 0.9837 - val_loss: 0.0911 - val_accuracy: 0.9731\n",
            "Epoch 7/100\n",
            "50/50 [==============================] - 34s 690ms/step - loss: 0.0679 - accuracy: 0.9756 - val_loss: 0.0772 - val_accuracy: 0.9781\n",
            "Epoch 8/100\n",
            "50/50 [==============================] - 35s 692ms/step - loss: 0.0762 - accuracy: 0.9825 - val_loss: 0.0878 - val_accuracy: 0.9731\n",
            "Epoch 9/100\n",
            "50/50 [==============================] - 35s 702ms/step - loss: 0.0612 - accuracy: 0.9794 - val_loss: 0.0699 - val_accuracy: 0.9806\n",
            "Epoch 10/100\n",
            "50/50 [==============================] - 35s 691ms/step - loss: 0.0798 - accuracy: 0.9762 - val_loss: 0.0735 - val_accuracy: 0.9794\n",
            "Epoch 11/100\n",
            "50/50 [==============================] - 35s 699ms/step - loss: 0.0711 - accuracy: 0.9794 - val_loss: 0.0821 - val_accuracy: 0.9762\n",
            "Epoch 12/100\n",
            "50/50 [==============================] - 35s 701ms/step - loss: 0.0490 - accuracy: 0.9819 - val_loss: 0.1164 - val_accuracy: 0.9644\n",
            "Epoch 13/100\n",
            "50/50 [==============================] - 35s 697ms/step - loss: 0.0778 - accuracy: 0.9769 - val_loss: 0.0707 - val_accuracy: 0.9794\n",
            "Epoch 14/100\n",
            "50/50 [==============================] - 35s 690ms/step - loss: 0.0638 - accuracy: 0.9769 - val_loss: 0.1192 - val_accuracy: 0.9644\n",
            "Epoch 15/100\n",
            "50/50 [==============================] - 35s 702ms/step - loss: 0.0752 - accuracy: 0.9769 - val_loss: 0.1117 - val_accuracy: 0.9613\n",
            "Epoch 16/100\n",
            "50/50 [==============================] - 34s 689ms/step - loss: 0.0955 - accuracy: 0.9753 - val_loss: 0.0791 - val_accuracy: 0.9769\n",
            "Epoch 17/100\n",
            "50/50 [==============================] - 35s 705ms/step - loss: 0.0631 - accuracy: 0.9800 - val_loss: 0.0744 - val_accuracy: 0.9781\n",
            "Epoch 18/100\n",
            "50/50 [==============================] - 35s 705ms/step - loss: 0.1018 - accuracy: 0.9731 - val_loss: 0.0608 - val_accuracy: 0.9800\n",
            "Epoch 19/100\n",
            "50/50 [==============================] - 35s 700ms/step - loss: 0.0536 - accuracy: 0.9794 - val_loss: 0.0793 - val_accuracy: 0.9787\n",
            "Epoch 20/100\n",
            "50/50 [==============================] - 35s 701ms/step - loss: 0.0819 - accuracy: 0.9731 - val_loss: 0.0646 - val_accuracy: 0.9831\n",
            "Epoch 21/100\n",
            "50/50 [==============================] - 35s 696ms/step - loss: 0.0693 - accuracy: 0.9787 - val_loss: 0.0898 - val_accuracy: 0.9694\n",
            "Epoch 22/100\n",
            "50/50 [==============================] - 35s 699ms/step - loss: 0.0563 - accuracy: 0.9812 - val_loss: 0.0804 - val_accuracy: 0.9756\n",
            "Epoch 23/100\n",
            "50/50 [==============================] - 35s 694ms/step - loss: 0.0903 - accuracy: 0.9737 - val_loss: 0.0691 - val_accuracy: 0.9787\n",
            "Epoch 24/100\n",
            "50/50 [==============================] - 35s 705ms/step - loss: 0.0600 - accuracy: 0.9800 - val_loss: 0.0575 - val_accuracy: 0.9856\n",
            "Epoch 25/100\n",
            "50/50 [==============================] - 35s 699ms/step - loss: 0.0524 - accuracy: 0.9837 - val_loss: 0.0653 - val_accuracy: 0.9806\n",
            "Epoch 26/100\n",
            "50/50 [==============================] - 35s 705ms/step - loss: 0.0743 - accuracy: 0.9762 - val_loss: 0.0872 - val_accuracy: 0.9737\n",
            "Epoch 27/100\n",
            "50/50 [==============================] - 35s 701ms/step - loss: 0.0841 - accuracy: 0.9806 - val_loss: 0.0867 - val_accuracy: 0.9731\n",
            "Epoch 28/100\n",
            "50/50 [==============================] - 35s 704ms/step - loss: 0.0618 - accuracy: 0.9794 - val_loss: 0.0515 - val_accuracy: 0.9856\n",
            "Epoch 29/100\n",
            "50/50 [==============================] - 35s 701ms/step - loss: 0.0638 - accuracy: 0.9781 - val_loss: 0.0583 - val_accuracy: 0.9825\n",
            "Epoch 30/100\n",
            "50/50 [==============================] - 35s 697ms/step - loss: 0.0433 - accuracy: 0.9856 - val_loss: 0.0529 - val_accuracy: 0.9831\n",
            "Epoch 31/100\n",
            "50/50 [==============================] - 35s 705ms/step - loss: 0.0785 - accuracy: 0.9794 - val_loss: 0.0499 - val_accuracy: 0.9869\n",
            "Epoch 32/100\n",
            "50/50 [==============================] - 35s 697ms/step - loss: 0.0546 - accuracy: 0.9837 - val_loss: 0.0695 - val_accuracy: 0.9744\n",
            "Epoch 33/100\n",
            "50/50 [==============================] - 35s 703ms/step - loss: 0.0642 - accuracy: 0.9800 - val_loss: 0.0648 - val_accuracy: 0.9844\n",
            "Epoch 34/100\n",
            "50/50 [==============================] - 34s 689ms/step - loss: 0.0600 - accuracy: 0.9800 - val_loss: 0.0562 - val_accuracy: 0.9856\n",
            "Epoch 35/100\n",
            "50/50 [==============================] - 35s 690ms/step - loss: 0.0682 - accuracy: 0.9812 - val_loss: 0.0634 - val_accuracy: 0.9819\n",
            "Epoch 36/100\n",
            "50/50 [==============================] - 35s 700ms/step - loss: 0.0545 - accuracy: 0.9844 - val_loss: 0.0651 - val_accuracy: 0.9812\n",
            "Epoch 37/100\n",
            "50/50 [==============================] - 35s 699ms/step - loss: 0.0527 - accuracy: 0.9831 - val_loss: 0.0699 - val_accuracy: 0.9781\n",
            "Epoch 38/100\n",
            "50/50 [==============================] - 35s 702ms/step - loss: 0.0494 - accuracy: 0.9869 - val_loss: 0.0730 - val_accuracy: 0.9800\n",
            "Epoch 39/100\n",
            "50/50 [==============================] - 35s 709ms/step - loss: 0.0420 - accuracy: 0.9850 - val_loss: 0.0804 - val_accuracy: 0.9787\n",
            "Epoch 40/100\n",
            "50/50 [==============================] - 35s 693ms/step - loss: 0.0573 - accuracy: 0.9835 - val_loss: 0.0917 - val_accuracy: 0.9737\n",
            "Epoch 41/100\n",
            "50/50 [==============================] - 35s 703ms/step - loss: 0.0665 - accuracy: 0.9794 - val_loss: 0.0777 - val_accuracy: 0.9756\n",
            "Epoch 42/100\n",
            "50/50 [==============================] - 35s 705ms/step - loss: 0.0538 - accuracy: 0.9862 - val_loss: 0.0569 - val_accuracy: 0.9831\n",
            "Epoch 43/100\n",
            "50/50 [==============================] - 35s 694ms/step - loss: 0.0549 - accuracy: 0.9825 - val_loss: 0.0597 - val_accuracy: 0.9825\n",
            "Epoch 44/100\n",
            "50/50 [==============================] - 35s 703ms/step - loss: 0.0755 - accuracy: 0.9750 - val_loss: 0.0687 - val_accuracy: 0.9819\n",
            "Epoch 45/100\n",
            "50/50 [==============================] - 35s 694ms/step - loss: 0.0663 - accuracy: 0.9800 - val_loss: 0.0633 - val_accuracy: 0.9825\n",
            "Epoch 46/100\n",
            "50/50 [==============================] - 35s 698ms/step - loss: 0.0679 - accuracy: 0.9775 - val_loss: 0.0552 - val_accuracy: 0.9844\n",
            "Epoch 47/100\n",
            "50/50 [==============================] - 35s 691ms/step - loss: 0.0732 - accuracy: 0.9762 - val_loss: 0.0595 - val_accuracy: 0.9831\n",
            "Epoch 48/100\n",
            "50/50 [==============================] - 35s 700ms/step - loss: 0.0576 - accuracy: 0.9812 - val_loss: 0.0734 - val_accuracy: 0.9787\n",
            "Epoch 49/100\n",
            "50/50 [==============================] - 35s 698ms/step - loss: 0.0487 - accuracy: 0.9850 - val_loss: 0.0633 - val_accuracy: 0.9819\n",
            "Epoch 50/100\n",
            "50/50 [==============================] - 35s 697ms/step - loss: 0.0375 - accuracy: 0.9875 - val_loss: 0.0588 - val_accuracy: 0.9806\n",
            "Epoch 51/100\n",
            "50/50 [==============================] - 36s 713ms/step - loss: 0.0505 - accuracy: 0.9837 - val_loss: 0.0791 - val_accuracy: 0.9812\n",
            "Epoch 52/100\n",
            "50/50 [==============================] - 35s 703ms/step - loss: 0.0563 - accuracy: 0.9819 - val_loss: 0.0538 - val_accuracy: 0.9837\n",
            "Epoch 53/100\n",
            "50/50 [==============================] - 35s 702ms/step - loss: 0.0617 - accuracy: 0.9831 - val_loss: 0.0850 - val_accuracy: 0.9775\n",
            "Epoch 54/100\n",
            "50/50 [==============================] - 35s 699ms/step - loss: 0.0548 - accuracy: 0.9856 - val_loss: 0.0571 - val_accuracy: 0.9837\n",
            "Epoch 55/100\n",
            "50/50 [==============================] - 35s 702ms/step - loss: 0.0623 - accuracy: 0.9844 - val_loss: 0.0601 - val_accuracy: 0.9781\n",
            "Epoch 56/100\n",
            "50/50 [==============================] - 35s 707ms/step - loss: 0.0665 - accuracy: 0.9825 - val_loss: 0.0748 - val_accuracy: 0.9756\n",
            "Epoch 57/100\n",
            "50/50 [==============================] - 35s 697ms/step - loss: 0.0556 - accuracy: 0.9844 - val_loss: 0.0632 - val_accuracy: 0.9831\n",
            "Epoch 58/100\n",
            "50/50 [==============================] - 35s 707ms/step - loss: 0.0376 - accuracy: 0.9894 - val_loss: 0.0954 - val_accuracy: 0.9762\n",
            "Epoch 59/100\n",
            "50/50 [==============================] - 36s 713ms/step - loss: 0.0652 - accuracy: 0.9831 - val_loss: 0.0650 - val_accuracy: 0.9831\n",
            "Epoch 60/100\n",
            "50/50 [==============================] - 36s 713ms/step - loss: 0.0443 - accuracy: 0.9850 - val_loss: 0.0846 - val_accuracy: 0.9769\n",
            "Epoch 61/100\n",
            "50/50 [==============================] - 35s 710ms/step - loss: 0.0447 - accuracy: 0.9819 - val_loss: 0.0519 - val_accuracy: 0.9837\n",
            "Epoch 62/100\n",
            "50/50 [==============================] - 35s 704ms/step - loss: 0.0446 - accuracy: 0.9869 - val_loss: 0.0598 - val_accuracy: 0.9819\n",
            "Epoch 63/100\n",
            "50/50 [==============================] - 35s 704ms/step - loss: 0.0747 - accuracy: 0.9831 - val_loss: 0.0478 - val_accuracy: 0.9856\n",
            "Epoch 64/100\n",
            "50/50 [==============================] - 35s 701ms/step - loss: 0.0478 - accuracy: 0.9881 - val_loss: 0.0558 - val_accuracy: 0.9825\n",
            "Epoch 65/100\n",
            "50/50 [==============================] - 35s 709ms/step - loss: 0.0681 - accuracy: 0.9794 - val_loss: 0.0740 - val_accuracy: 0.9800\n",
            "Epoch 66/100\n",
            "50/50 [==============================] - 35s 692ms/step - loss: 0.0612 - accuracy: 0.9822 - val_loss: 0.0592 - val_accuracy: 0.9825\n",
            "Epoch 67/100\n",
            "50/50 [==============================] - 35s 696ms/step - loss: 0.0482 - accuracy: 0.9850 - val_loss: 0.0693 - val_accuracy: 0.9794\n",
            "Epoch 68/100\n",
            "50/50 [==============================] - 35s 700ms/step - loss: 0.0605 - accuracy: 0.9831 - val_loss: 0.0391 - val_accuracy: 0.9887\n",
            "Epoch 69/100\n",
            "50/50 [==============================] - 35s 704ms/step - loss: 0.0372 - accuracy: 0.9856 - val_loss: 0.0600 - val_accuracy: 0.9837\n",
            "Epoch 70/100\n",
            "50/50 [==============================] - 35s 692ms/step - loss: 0.0640 - accuracy: 0.9806 - val_loss: 0.0693 - val_accuracy: 0.9744\n",
            "Epoch 71/100\n",
            "50/50 [==============================] - 35s 694ms/step - loss: 0.0424 - accuracy: 0.9850 - val_loss: 0.0561 - val_accuracy: 0.9806\n",
            "Epoch 72/100\n",
            "50/50 [==============================] - 35s 697ms/step - loss: 0.0611 - accuracy: 0.9844 - val_loss: 0.0494 - val_accuracy: 0.9850\n",
            "Epoch 73/100\n",
            "50/50 [==============================] - 35s 704ms/step - loss: 0.0627 - accuracy: 0.9837 - val_loss: 0.0669 - val_accuracy: 0.9762\n",
            "Epoch 74/100\n",
            "50/50 [==============================] - 35s 706ms/step - loss: 0.0442 - accuracy: 0.9869 - val_loss: 0.0732 - val_accuracy: 0.9744\n",
            "Epoch 75/100\n",
            "50/50 [==============================] - 35s 704ms/step - loss: 0.0482 - accuracy: 0.9875 - val_loss: 0.0521 - val_accuracy: 0.9844\n",
            "Epoch 76/100\n",
            "50/50 [==============================] - 35s 692ms/step - loss: 0.0550 - accuracy: 0.9831 - val_loss: 0.0672 - val_accuracy: 0.9794\n",
            "Epoch 77/100\n",
            "50/50 [==============================] - 35s 706ms/step - loss: 0.0432 - accuracy: 0.9887 - val_loss: 0.0508 - val_accuracy: 0.9831\n",
            "Epoch 78/100\n",
            "50/50 [==============================] - 34s 688ms/step - loss: 0.0568 - accuracy: 0.9862 - val_loss: 0.0635 - val_accuracy: 0.9800\n",
            "Epoch 79/100\n",
            "50/50 [==============================] - 35s 709ms/step - loss: 0.0606 - accuracy: 0.9800 - val_loss: 0.0676 - val_accuracy: 0.9800\n",
            "Epoch 80/100\n",
            "50/50 [==============================] - 35s 699ms/step - loss: 0.0384 - accuracy: 0.9869 - val_loss: 0.0458 - val_accuracy: 0.9875\n",
            "Epoch 81/100\n",
            "50/50 [==============================] - 35s 701ms/step - loss: 0.0421 - accuracy: 0.9869 - val_loss: 0.0476 - val_accuracy: 0.9875\n",
            "Epoch 82/100\n",
            "50/50 [==============================] - 35s 704ms/step - loss: 0.0530 - accuracy: 0.9825 - val_loss: 0.0555 - val_accuracy: 0.9825\n",
            "Epoch 83/100\n",
            "50/50 [==============================] - 35s 696ms/step - loss: 0.0465 - accuracy: 0.9875 - val_loss: 0.0572 - val_accuracy: 0.9819\n",
            "Epoch 84/100\n",
            "50/50 [==============================] - 35s 699ms/step - loss: 0.0613 - accuracy: 0.9787 - val_loss: 0.0537 - val_accuracy: 0.9831\n",
            "Epoch 85/100\n",
            "50/50 [==============================] - 35s 691ms/step - loss: 0.0512 - accuracy: 0.9869 - val_loss: 0.0628 - val_accuracy: 0.9819\n",
            "Epoch 86/100\n",
            "50/50 [==============================] - 35s 702ms/step - loss: 0.0428 - accuracy: 0.9850 - val_loss: 0.0490 - val_accuracy: 0.9875\n",
            "Epoch 87/100\n",
            "50/50 [==============================] - 35s 697ms/step - loss: 0.0515 - accuracy: 0.9850 - val_loss: 0.0397 - val_accuracy: 0.9869\n",
            "Epoch 88/100\n",
            "50/50 [==============================] - 35s 696ms/step - loss: 0.0441 - accuracy: 0.9887 - val_loss: 0.0505 - val_accuracy: 0.9875\n",
            "Epoch 89/100\n",
            "50/50 [==============================] - 35s 692ms/step - loss: 0.0407 - accuracy: 0.9887 - val_loss: 0.0421 - val_accuracy: 0.9862\n",
            "Epoch 90/100\n",
            "50/50 [==============================] - 35s 695ms/step - loss: 0.0584 - accuracy: 0.9831 - val_loss: 0.0400 - val_accuracy: 0.9887\n",
            "Epoch 91/100\n",
            "50/50 [==============================] - 35s 700ms/step - loss: 0.0550 - accuracy: 0.9837 - val_loss: 0.0595 - val_accuracy: 0.9781\n",
            "Epoch 92/100\n",
            "50/50 [==============================] - 34s 690ms/step - loss: 0.0377 - accuracy: 0.9886 - val_loss: 0.0687 - val_accuracy: 0.9837\n",
            "Epoch 93/100\n",
            "50/50 [==============================] - 34s 689ms/step - loss: 0.0469 - accuracy: 0.9844 - val_loss: 0.0642 - val_accuracy: 0.9850\n",
            "Epoch 94/100\n",
            "50/50 [==============================] - 35s 693ms/step - loss: 0.0532 - accuracy: 0.9856 - val_loss: 0.0493 - val_accuracy: 0.9844\n",
            "Epoch 95/100\n",
            "50/50 [==============================] - 35s 702ms/step - loss: 0.0389 - accuracy: 0.9894 - val_loss: 0.0704 - val_accuracy: 0.9794\n",
            "Epoch 96/100\n",
            "50/50 [==============================] - 35s 698ms/step - loss: 0.0589 - accuracy: 0.9819 - val_loss: 0.0778 - val_accuracy: 0.9825\n",
            "Epoch 97/100\n",
            "50/50 [==============================] - 34s 690ms/step - loss: 0.0660 - accuracy: 0.9781 - val_loss: 0.0487 - val_accuracy: 0.9881\n",
            "Epoch 98/100\n",
            "50/50 [==============================] - 35s 692ms/step - loss: 0.0503 - accuracy: 0.9850 - val_loss: 0.0592 - val_accuracy: 0.9812\n",
            "Epoch 99/100\n",
            "50/50 [==============================] - 34s 688ms/step - loss: 0.0385 - accuracy: 0.9875 - val_loss: 0.0542 - val_accuracy: 0.9825\n",
            "Epoch 100/100\n",
            "50/50 [==============================] - 35s 696ms/step - loss: 0.0453 - accuracy: 0.9875 - val_loss: 0.0636 - val_accuracy: 0.9856\n"
          ],
          "name": "stdout"
        }
      ]
    },
    {
      "cell_type": "code",
      "metadata": {
        "id": "4ultNPm9jetH",
        "colab_type": "code",
        "colab": {
          "base_uri": "https://localhost:8080/",
          "height": 315
        },
        "outputId": "48d50f28-afe0-40c0-fa82-46281bf1db16"
      },
      "source": [
        "acc = history.history['accuracy']# Your Code Here\n",
        "val_acc = history.history['val_accuracy']# Your Code Here\n",
        "loss = history.history['loss']# Your Code Here\n",
        "val_loss = history.history['val_loss'] # Your Code Here\n",
        "\n",
        "epochs = range(len(acc))\n",
        "\n",
        "plt.plot(epochs, acc, 'r', label='Training accuracy')\n",
        "plt.plot(epochs, val_acc, 'b', label='Validation accuracy')\n",
        "plt.title('Training and validation accuracy')\n",
        "plt.legend()\n",
        "plt.figure()\n",
        "print(val_acc[-1],acc[-1])"
      ],
      "execution_count": 45,
      "outputs": [
        {
          "output_type": "stream",
          "text": [
            "0.985625 0.9875\n"
          ],
          "name": "stdout"
        },
        {
          "output_type": "display_data",
          "data": {
            "image/png": "[encoded data removed]",
            "text/plain": [
              "<Figure size 432x288 with 1 Axes>"
            ]
          },
          "metadata": {
            "tags": []
          }
        },
        {
          "output_type": "display_data",
          "data": {
            "text/plain": [
              "<Figure size 432x288 with 0 Axes>"
            ]
          },
          "metadata": {
            "tags": []
          }
        }
      ]
    },
    {
      "cell_type": "code",
      "metadata": {
        "id": "ce0B_86ilAEY",
        "colab_type": "code",
        "colab": {}
      },
      "source": [
        "y_pred_val = model.predict(validation_X/255)\n",
        "from sklearn.metrics import confusion_matrix\n"
      ],
      "execution_count": 0,
      "outputs": []
    },
    {
      "cell_type": "code",
      "metadata": {
        "id": "Hz76QRCkTun7",
        "colab_type": "code",
        "colab": {
          "base_uri": "https://localhost:8080/",
          "height": 51
        },
        "outputId": "70d98f49-aab0-4ad2-c245-0780d86bcabe"
      },
      "source": [
        "y_pred_val2 = np.array([y_pred_val[i].argmax() for i in range(len(y_pred_val))])\n",
        "print(y_pred_val2)\n",
        "validation_y2 = np.array([validation_y[i].argmax() for i in range(len(validation_y))])\n",
        "print(validation_y2)"
      ],
      "execution_count": 47,
      "outputs": [
        {
          "output_type": "stream",
          "text": [
            "[7 5 1 ... 1 5 6]\n",
            "[7 5 1 ... 1 5 6]\n"
          ],
          "name": "stdout"
        }
      ]
    },
    {
      "cell_type": "code",
      "metadata": {
        "id": "7khyJWl5uSTv",
        "colab_type": "code",
        "colab": {}
      },
      "source": [
        "cm = confusion_matrix(validation_y2,y_pred_val2)"
      ],
      "execution_count": 0,
      "outputs": []
    },
    {
      "cell_type": "code",
      "metadata": {
        "id": "igVbGQ6xTbAG",
        "colab_type": "code",
        "colab": {
          "base_uri": "https://localhost:8080/",
          "height": 187
        },
        "outputId": "0474c751-1250-47e8-f06d-4b9bf71cd7fc"
      },
      "source": [
        "cm"
      ],
      "execution_count": 50,
      "outputs": [
        {
          "output_type": "execute_result",
          "data": {
            "text/plain": [
              "array([[421,   0,   0,   0,   0,   0,   1,   0,   0,   0],\n",
              "       [  0, 458,   0,   0,   0,   0,   0,   1,   0,   0],\n",
              "       [  0,   0, 399,   0,   0,   0,   0,   4,   1,   0],\n",
              "       [  0,   0,   0, 408,   0,   1,   0,   1,   0,   0],\n",
              "       [  0,   0,   0,   0, 420,   0,   0,   0,   0,   3],\n",
              "       [  0,   0,   0,   0,   0, 359,   1,   0,   1,   0],\n",
              "       [  0,   0,   0,   0,   0,   1, 435,   0,   0,   0],\n",
              "       [  0,   1,   5,   1,   0,   0,   0, 431,   0,   0],\n",
              "       [  0,   0,   0,   0,   0,   1,   0,   1, 423,   2],\n",
              "       [  1,   0,   0,   0,   0,   0,   0,   1,   0, 418]])"
            ]
          },
          "metadata": {
            "tags": []
          },
          "execution_count": 50
        }
      ]
    },
    {
      "cell_type": "code",
      "metadata": {
        "id": "3XLGXqbMGkFk",
        "colab_type": "code",
        "colab": {
          "base_uri": "https://localhost:8080/",
          "height": 311
        },
        "outputId": "983d609c-3ae9-4dba-b78b-d51dec21d905"
      },
      "source": [
        "import itertools\n",
        "def plot_confusion_matrix(cm, classes,\n",
        "                          normalize=False,\n",
        "                          title='Confusion matrix',\n",
        "                          cmap=plt.cm.Blues):\n",
        "    \"\"\"\n",
        "    This function prints and plots the confusion matrix.\n",
        "    Normalization can be applied by setting `normalize=True`.\n",
        "    \"\"\"\n",
        "    plt.imshow(cm, interpolation='nearest', cmap=cmap)\n",
        "    plt.title(title)\n",
        "    plt.colorbar()\n",
        "    tick_marks = np.arange(len(classes))\n",
        "    plt.xticks(tick_marks, classes, rotation=45)\n",
        "    plt.yticks(tick_marks, classes)\n",
        "\n",
        "    if normalize:\n",
        "        cm = cm.astype('float') / cm.sum(axis=1)[:, np.newaxis]\n",
        "    thresh = cm.max()/ 2.\n",
        "    for i, j in itertools.product(range(cm.shape[0]), range(cm.shape[1])):\n",
        "        plt.text(j, i, cm[i, j],\n",
        "                 horizontalalignment=\"center\",\n",
        "                 color=\"white\" if cm[i, j] > thresh else \"black\")\n",
        "\n",
        "    \n",
        "\n",
        "    plt.tight_layout()\n",
        "    plt.ylabel('True label')\n",
        "    plt.xlabel('Predicted label')\n",
        "    \n",
        "# plot the confusion matrix\n",
        "plot_confusion_matrix(cm, classes = range(10)) "
      ],
      "execution_count": 51,
      "outputs": [
        {
          "output_type": "display_data",
          "data": {
            "image/png": "[encoded data removed]",
            "text/plain": [
              "<Figure size 432x288 with 2 Axes>"
            ]
          },
          "metadata": {
            "tags": []
          }
        }
      ]
    },
    {
      "cell_type": "code",
      "metadata": {
        "id": "V-0nqxkbh2ar",
        "colab_type": "code",
        "colab": {}
      },
      "source": [
        "lb_test = pd.read_csv(\"/content/drive/My Drive/Kaggle/mnist/test.csv\")"
      ],
      "execution_count": 0,
      "outputs": []
    },
    {
      "cell_type": "code",
      "metadata": {
        "id": "78kHCNaPuQ6W",
        "colab_type": "code",
        "colab": {
          "base_uri": "https://localhost:8080/",
          "height": 170
        },
        "outputId": "26f66a53-76bf-4692-ae4c-461a90d34c0b"
      },
      "source": [
        "print(np.shape(lb_test))\n",
        "print(lb_test.head())"
      ],
      "execution_count": 54,
      "outputs": [
        {
          "output_type": "stream",
          "text": [
            "(28000, 784)\n",
            "   pixel0  pixel1  pixel2  pixel3  ...  pixel780  pixel781  pixel782  pixel783\n",
            "0       0       0       0       0  ...         0         0         0         0\n",
            "1       0       0       0       0  ...         0         0         0         0\n",
            "2       0       0       0       0  ...         0         0         0         0\n",
            "3       0       0       0       0  ...         0         0         0         0\n",
            "4       0       0       0       0  ...         0         0         0         0\n",
            "\n",
            "[5 rows x 784 columns]\n"
          ],
          "name": "stdout"
        }
      ]
    },
    {
      "cell_type": "code",
      "metadata": {
        "id": "s7M7m4tZi0Qw",
        "colab_type": "code",
        "colab": {
          "base_uri": "https://localhost:8080/",
          "height": 34
        },
        "outputId": "f4fa0780-f389-4ed8-9e26-6fff713b202e"
      },
      "source": [
        "lb_test = np.array(lb_test).reshape(-1,28,28,1)\n",
        "print(np.shape(lb_test))\n"
      ],
      "execution_count": 55,
      "outputs": [
        {
          "output_type": "stream",
          "text": [
            "(28000, 28, 28, 1)\n"
          ],
          "name": "stdout"
        }
      ]
    },
    {
      "cell_type": "code",
      "metadata": {
        "id": "oABeYSstWbj1",
        "colab_type": "code",
        "colab": {}
      },
      "source": [
        "y_pre = model.predict(lb_test)\n",
        "y_pre = [y_pre[i].argmax() for i in range(len(y_pre))]\n"
      ],
      "execution_count": 0,
      "outputs": []
    },
    {
      "cell_type": "code",
      "metadata": {
        "id": "wzgr78QpkwO2",
        "colab_type": "code",
        "colab": {}
      },
      "source": [
        "y_pre = pd.Series(y_pre, name ='Label')\n",
        "submission = pd.concat([pd.Series(range(1,28001),name = \"ImageId\"),y_pre],axis = 1)\n",
        "\n",
        "submission.to_csv(\"cnn_mnist_datagen.csv\",index=False)\n",
        "\n"
      ],
      "execution_count": 0,
      "outputs": []
    },
    {
      "cell_type": "markdown",
      "metadata": {
        "id": "0ON8PVFpqt8E",
        "colab_type": "text"
      },
      "source": [
        "## kaggle test prediction accuracy: 0.99071"
      ]
    },
    {
      "cell_type": "code",
      "metadata": {
        "id": "mPu-zRo4oDRR",
        "colab_type": "code",
        "colab": {}
      },
      "source": [
        "# model_v2 =  XGBClassifier()\n",
        "\n",
        "# # train_X, validation_X, train_y, validation_y\n",
        "# model_v2.fit(train_X, train_y)\n",
        "# y_redict = model_v2.predict(train_X)\n",
        "# print(y_precit[10])\n",
        "# accuracy = accuracy_score(y_test, y_pred)\n",
        "\n",
        "# results['XGBoost'] = {'training_time': t, 'accuracy': accuracy}\n",
        "\n",
        "# # feature importance\n",
        "# print(model_v2.feature_importances_)\n",
        "# # plot\n",
        "# pyplot.bar(range(len(model.feature_importances_)), model.feature_importances_)\n",
        "# pyplot.show()\n",
        "\n",
        "# # importance\n",
        "# plot_importance(model)"
      ],
      "execution_count": 0,
      "outputs": []
    }
  ]
}